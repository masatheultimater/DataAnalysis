{
 "cells": [
  {
   "cell_type": "markdown",
   "metadata": {},
   "source": [
    "# Introduction\n",
    "\n",
    "<br>\n",
    "\n",
    "## Data set\n",
    "- A dataset of used cars from eBay Kleinanzeigen(a online classifieds section of the German eBay website) on Kaggle\n",
    "    - Originally Scraped in Kaggle\n",
    "    - Made few modification in this analysis\n",
    "        - sampled 50,000 data randomly\n",
    "        - dirtied to be a sample of data clean practice(original ver on kaggle has been cleaned already)  \n",
    "\n",
    "<br>\n",
    "\n",
    "## Aim of this analysis\n",
    "- To clean the data and analyze the included used car listings\n",
    "- To become familiar with data clean techniques with Pandas\n",
    "<br>\n",
    "\n",
    "---\n",
    "# Preperation\n",
    "## importing libraries(Pandas, Numpy)\n",
    "## reading file(autos.csv)\n",
    "\n"
   ]
  },
  {
   "cell_type": "code",
   "execution_count": 1,
   "metadata": {
    "ExecuteTime": {
     "end_time": "2019-04-13T03:01:53.732627Z",
     "start_time": "2019-04-13T03:01:52.124623Z"
    }
   },
   "outputs": [
    {
     "ename": "UnicodeDecodeError",
     "evalue": "'utf-8' codec can't decode byte 0xdc in position 23: invalid continuation byte",
     "output_type": "error",
     "traceback": [
      "\u001b[1;31m---------------------------------------------------------------------------\u001b[0m",
      "\u001b[1;31mUnicodeDecodeError\u001b[0m                        Traceback (most recent call last)",
      "\u001b[1;32mpandas\\_libs\\parsers.pyx\u001b[0m in \u001b[0;36mpandas._libs.parsers.TextReader._convert_tokens\u001b[1;34m()\u001b[0m\n",
      "\u001b[1;32mpandas\\_libs\\parsers.pyx\u001b[0m in \u001b[0;36mpandas._libs.parsers.TextReader._convert_with_dtype\u001b[1;34m()\u001b[0m\n",
      "\u001b[1;32mpandas\\_libs\\parsers.pyx\u001b[0m in \u001b[0;36mpandas._libs.parsers.TextReader._string_convert\u001b[1;34m()\u001b[0m\n",
      "\u001b[1;32mpandas\\_libs\\parsers.pyx\u001b[0m in \u001b[0;36mpandas._libs.parsers._string_box_utf8\u001b[1;34m()\u001b[0m\n",
      "\u001b[1;31mUnicodeDecodeError\u001b[0m: 'utf-8' codec can't decode byte 0xdc in position 23: invalid continuation byte",
      "\nDuring handling of the above exception, another exception occurred:\n",
      "\u001b[1;31mUnicodeDecodeError\u001b[0m                        Traceback (most recent call last)",
      "\u001b[1;32m<ipython-input-1-6524130e020d>\u001b[0m in \u001b[0;36m<module>\u001b[1;34m\u001b[0m\n\u001b[0;32m      2\u001b[0m \u001b[1;32mimport\u001b[0m \u001b[0mnumpy\u001b[0m \u001b[1;32mas\u001b[0m \u001b[0mnp\u001b[0m\u001b[1;33m\u001b[0m\u001b[1;33m\u001b[0m\u001b[0m\n\u001b[0;32m      3\u001b[0m \u001b[1;33m\u001b[0m\u001b[0m\n\u001b[1;32m----> 4\u001b[1;33m \u001b[0mautos\u001b[0m \u001b[1;33m=\u001b[0m \u001b[0mpd\u001b[0m\u001b[1;33m.\u001b[0m\u001b[0mread_csv\u001b[0m\u001b[1;33m(\u001b[0m\u001b[1;34m\"autos.csv\"\u001b[0m\u001b[1;33m,\u001b[0m \u001b[0mencoding\u001b[0m\u001b[1;33m=\u001b[0m\u001b[1;34m\"UTF-8\"\u001b[0m\u001b[1;33m)\u001b[0m\u001b[1;33m\u001b[0m\u001b[1;33m\u001b[0m\u001b[0m\n\u001b[0m",
      "\u001b[1;32m~\\AppData\\Local\\conda\\conda\\envs\\Python 3.6\\lib\\site-packages\\pandas\\io\\parsers.py\u001b[0m in \u001b[0;36mparser_f\u001b[1;34m(filepath_or_buffer, sep, delimiter, header, names, index_col, usecols, squeeze, prefix, mangle_dupe_cols, dtype, engine, converters, true_values, false_values, skipinitialspace, skiprows, nrows, na_values, keep_default_na, na_filter, verbose, skip_blank_lines, parse_dates, infer_datetime_format, keep_date_col, date_parser, dayfirst, iterator, chunksize, compression, thousands, decimal, lineterminator, quotechar, quoting, escapechar, comment, encoding, dialect, tupleize_cols, error_bad_lines, warn_bad_lines, skipfooter, doublequote, delim_whitespace, low_memory, memory_map, float_precision)\u001b[0m\n\u001b[0;32m    676\u001b[0m                     skip_blank_lines=skip_blank_lines)\n\u001b[0;32m    677\u001b[0m \u001b[1;33m\u001b[0m\u001b[0m\n\u001b[1;32m--> 678\u001b[1;33m         \u001b[1;32mreturn\u001b[0m \u001b[0m_read\u001b[0m\u001b[1;33m(\u001b[0m\u001b[0mfilepath_or_buffer\u001b[0m\u001b[1;33m,\u001b[0m \u001b[0mkwds\u001b[0m\u001b[1;33m)\u001b[0m\u001b[1;33m\u001b[0m\u001b[1;33m\u001b[0m\u001b[0m\n\u001b[0m\u001b[0;32m    679\u001b[0m \u001b[1;33m\u001b[0m\u001b[0m\n\u001b[0;32m    680\u001b[0m     \u001b[0mparser_f\u001b[0m\u001b[1;33m.\u001b[0m\u001b[0m__name__\u001b[0m \u001b[1;33m=\u001b[0m \u001b[0mname\u001b[0m\u001b[1;33m\u001b[0m\u001b[1;33m\u001b[0m\u001b[0m\n",
      "\u001b[1;32m~\\AppData\\Local\\conda\\conda\\envs\\Python 3.6\\lib\\site-packages\\pandas\\io\\parsers.py\u001b[0m in \u001b[0;36m_read\u001b[1;34m(filepath_or_buffer, kwds)\u001b[0m\n\u001b[0;32m    444\u001b[0m \u001b[1;33m\u001b[0m\u001b[0m\n\u001b[0;32m    445\u001b[0m     \u001b[1;32mtry\u001b[0m\u001b[1;33m:\u001b[0m\u001b[1;33m\u001b[0m\u001b[1;33m\u001b[0m\u001b[0m\n\u001b[1;32m--> 446\u001b[1;33m         \u001b[0mdata\u001b[0m \u001b[1;33m=\u001b[0m \u001b[0mparser\u001b[0m\u001b[1;33m.\u001b[0m\u001b[0mread\u001b[0m\u001b[1;33m(\u001b[0m\u001b[0mnrows\u001b[0m\u001b[1;33m)\u001b[0m\u001b[1;33m\u001b[0m\u001b[1;33m\u001b[0m\u001b[0m\n\u001b[0m\u001b[0;32m    447\u001b[0m     \u001b[1;32mfinally\u001b[0m\u001b[1;33m:\u001b[0m\u001b[1;33m\u001b[0m\u001b[1;33m\u001b[0m\u001b[0m\n\u001b[0;32m    448\u001b[0m         \u001b[0mparser\u001b[0m\u001b[1;33m.\u001b[0m\u001b[0mclose\u001b[0m\u001b[1;33m(\u001b[0m\u001b[1;33m)\u001b[0m\u001b[1;33m\u001b[0m\u001b[1;33m\u001b[0m\u001b[0m\n",
      "\u001b[1;32m~\\AppData\\Local\\conda\\conda\\envs\\Python 3.6\\lib\\site-packages\\pandas\\io\\parsers.py\u001b[0m in \u001b[0;36mread\u001b[1;34m(self, nrows)\u001b[0m\n\u001b[0;32m   1034\u001b[0m                 \u001b[1;32mraise\u001b[0m \u001b[0mValueError\u001b[0m\u001b[1;33m(\u001b[0m\u001b[1;34m'skipfooter not supported for iteration'\u001b[0m\u001b[1;33m)\u001b[0m\u001b[1;33m\u001b[0m\u001b[1;33m\u001b[0m\u001b[0m\n\u001b[0;32m   1035\u001b[0m \u001b[1;33m\u001b[0m\u001b[0m\n\u001b[1;32m-> 1036\u001b[1;33m         \u001b[0mret\u001b[0m \u001b[1;33m=\u001b[0m \u001b[0mself\u001b[0m\u001b[1;33m.\u001b[0m\u001b[0m_engine\u001b[0m\u001b[1;33m.\u001b[0m\u001b[0mread\u001b[0m\u001b[1;33m(\u001b[0m\u001b[0mnrows\u001b[0m\u001b[1;33m)\u001b[0m\u001b[1;33m\u001b[0m\u001b[1;33m\u001b[0m\u001b[0m\n\u001b[0m\u001b[0;32m   1037\u001b[0m \u001b[1;33m\u001b[0m\u001b[0m\n\u001b[0;32m   1038\u001b[0m         \u001b[1;31m# May alter columns / col_dict\u001b[0m\u001b[1;33m\u001b[0m\u001b[1;33m\u001b[0m\u001b[1;33m\u001b[0m\u001b[0m\n",
      "\u001b[1;32m~\\AppData\\Local\\conda\\conda\\envs\\Python 3.6\\lib\\site-packages\\pandas\\io\\parsers.py\u001b[0m in \u001b[0;36mread\u001b[1;34m(self, nrows)\u001b[0m\n\u001b[0;32m   1846\u001b[0m     \u001b[1;32mdef\u001b[0m \u001b[0mread\u001b[0m\u001b[1;33m(\u001b[0m\u001b[0mself\u001b[0m\u001b[1;33m,\u001b[0m \u001b[0mnrows\u001b[0m\u001b[1;33m=\u001b[0m\u001b[1;32mNone\u001b[0m\u001b[1;33m)\u001b[0m\u001b[1;33m:\u001b[0m\u001b[1;33m\u001b[0m\u001b[1;33m\u001b[0m\u001b[0m\n\u001b[0;32m   1847\u001b[0m         \u001b[1;32mtry\u001b[0m\u001b[1;33m:\u001b[0m\u001b[1;33m\u001b[0m\u001b[1;33m\u001b[0m\u001b[0m\n\u001b[1;32m-> 1848\u001b[1;33m             \u001b[0mdata\u001b[0m \u001b[1;33m=\u001b[0m \u001b[0mself\u001b[0m\u001b[1;33m.\u001b[0m\u001b[0m_reader\u001b[0m\u001b[1;33m.\u001b[0m\u001b[0mread\u001b[0m\u001b[1;33m(\u001b[0m\u001b[0mnrows\u001b[0m\u001b[1;33m)\u001b[0m\u001b[1;33m\u001b[0m\u001b[1;33m\u001b[0m\u001b[0m\n\u001b[0m\u001b[0;32m   1849\u001b[0m         \u001b[1;32mexcept\u001b[0m \u001b[0mStopIteration\u001b[0m\u001b[1;33m:\u001b[0m\u001b[1;33m\u001b[0m\u001b[1;33m\u001b[0m\u001b[0m\n\u001b[0;32m   1850\u001b[0m             \u001b[1;32mif\u001b[0m \u001b[0mself\u001b[0m\u001b[1;33m.\u001b[0m\u001b[0m_first_chunk\u001b[0m\u001b[1;33m:\u001b[0m\u001b[1;33m\u001b[0m\u001b[1;33m\u001b[0m\u001b[0m\n",
      "\u001b[1;32mpandas\\_libs\\parsers.pyx\u001b[0m in \u001b[0;36mpandas._libs.parsers.TextReader.read\u001b[1;34m()\u001b[0m\n",
      "\u001b[1;32mpandas\\_libs\\parsers.pyx\u001b[0m in \u001b[0;36mpandas._libs.parsers.TextReader._read_low_memory\u001b[1;34m()\u001b[0m\n",
      "\u001b[1;32mpandas\\_libs\\parsers.pyx\u001b[0m in \u001b[0;36mpandas._libs.parsers.TextReader._read_rows\u001b[1;34m()\u001b[0m\n",
      "\u001b[1;32mpandas\\_libs\\parsers.pyx\u001b[0m in \u001b[0;36mpandas._libs.parsers.TextReader._convert_column_data\u001b[1;34m()\u001b[0m\n",
      "\u001b[1;32mpandas\\_libs\\parsers.pyx\u001b[0m in \u001b[0;36mpandas._libs.parsers.TextReader._convert_tokens\u001b[1;34m()\u001b[0m\n",
      "\u001b[1;32mpandas\\_libs\\parsers.pyx\u001b[0m in \u001b[0;36mpandas._libs.parsers.TextReader._convert_with_dtype\u001b[1;34m()\u001b[0m\n",
      "\u001b[1;32mpandas\\_libs\\parsers.pyx\u001b[0m in \u001b[0;36mpandas._libs.parsers.TextReader._string_convert\u001b[1;34m()\u001b[0m\n",
      "\u001b[1;32mpandas\\_libs\\parsers.pyx\u001b[0m in \u001b[0;36mpandas._libs.parsers._string_box_utf8\u001b[1;34m()\u001b[0m\n",
      "\u001b[1;31mUnicodeDecodeError\u001b[0m: 'utf-8' codec can't decode byte 0xdc in position 23: invalid continuation byte"
     ]
    }
   ],
   "source": [
    "import pandas as pd\n",
    "import numpy as np\n",
    "\n",
    "autos = pd.read_csv(\"autos.csv\", encoding=\"UTF-8\")"
   ]
  },
  {
   "cell_type": "markdown",
   "metadata": {},
   "source": [
    "Got an UnicodeDecodeError(encoding error) in reading autos.csv.  \n",
    "\n",
    "**possible cause**  \n",
    "    encoded by encodings except UTF-8\n",
    "\n",
    "<br>\n",
    "\n",
    "- try next encodings"
   ]
  },
  {
   "cell_type": "code",
   "execution_count": null,
   "metadata": {
    "ExecuteTime": {
     "end_time": "2019-04-13T03:01:53.742620Z",
     "start_time": "2019-04-13T03:01:51.257Z"
    }
   },
   "outputs": [],
   "source": [
    "autos = pd.read_csv(\"autos.csv\", encoding=\"Latin-1\")"
   ]
  },
  {
   "cell_type": "markdown",
   "metadata": {},
   "source": [
    "successed to reading autos.csv.\n",
    "\n",
    "<br>\n",
    "\n",
    "## confim the data frame\n",
    "\n",
    "<br>\n",
    "\n",
    "### autos table(dictionary definition)  \n",
    "\n",
    "| key | type | description |\n",
    "| --- | --- | --- |\n",
    "| `dataCrawled` | string | When this ad was first crawled(All values taken from this date) |\n",
    "| `name` | string | Name of the car |\n",
    "| `seller` | string | Whether the seller is private or a dealer |\n",
    "| `offerType` | string | The type of listing |\n",
    "| `price` | string | The price on the ad to sell the car |\n",
    "| `abtest` | string | Whether the listing is included in an A/B test |\n",
    "| `vehicleType` | string | The vehicle Type |\n",
    "| `yearOfRegistration` | int | The year in which the car was first registered |\n",
    "| `gearbox` | string | The transmission type |\n",
    "| `powerPS` | int | The power of the car in PS( Pferde Stärke: 馬力) |\n",
    "| `model` | string | The car model name |\n",
    "| `kilometer` | string | How long the car has driven |\n",
    "| `monthOfRegistration` | int | The month in which the car was first registered |\n",
    "| `fuelType` | string | What type of fuel the car uses |\n",
    "| `brand` | string | The brand of the car |\n",
    "| `notRepairedDamage` | string | If the car has a damage which is not yet repaired |\n",
    "| `dateCreated` | string | The date on which the eBay listing was created |\n",
    "| `nrOfPictures` | int | The number of pictures in the ad |\n",
    "| `postalCode` | int | The postal code for the location of the vehicle |\n",
    "| `lastSeenOnline` | string | When the crawler saw this ad last online |\n"
   ]
  },
  {
   "cell_type": "code",
   "execution_count": null,
   "metadata": {
    "ExecuteTime": {
     "end_time": "2019-04-13T03:01:53.745619Z",
     "start_time": "2019-04-13T03:01:51.285Z"
    }
   },
   "outputs": [],
   "source": [
    "autos # itself"
   ]
  },
  {
   "cell_type": "code",
   "execution_count": null,
   "metadata": {
    "ExecuteTime": {
     "end_time": "2019-04-13T03:01:53.748616Z",
     "start_time": "2019-04-13T03:01:51.292Z"
    }
   },
   "outputs": [],
   "source": [
    "autos.info() # print dataframe"
   ]
  },
  {
   "cell_type": "code",
   "execution_count": null,
   "metadata": {
    "ExecuteTime": {
     "end_time": "2019-04-13T03:01:53.750615Z",
     "start_time": "2019-04-13T03:01:51.306Z"
    }
   },
   "outputs": [],
   "source": [
    "autos.head() # first 5 rows"
   ]
  },
  {
   "cell_type": "markdown",
   "metadata": {},
   "source": [
    "### Brief data set observation\n",
    "#### overview\n",
    "- 20 columns(15 strings, 5 ints)\n",
    "- less than 20% null values in each columns if exists\n",
    "- camelcase column names, not snakecase\n",
    "\n",
    "#### As is \n",
    "- camelcase\n",
    "\n",
    "- missing values\n",
    "    - vehicleType    44905 non-null\n",
    "    - gearbox     47320 non-null\n",
    "    - model     47242 non-null\n",
    "    - fuelType     45518 non-null\n",
    "    - notRepairedDamage     40171 non-null\n",
    "\n",
    "- unpreferable data input to analize\n",
    "    - name\n",
    "        - too much long to read & has multiple info\n",
    "    - price\n",
    "        - \"$0000\"\n",
    "    - power PS\n",
    "        - some may have 0 values\n",
    "    - odmeter\n",
    "        - \"0000km\"\n",
    "    - notRepairedDamage\n",
    "        - \"Nein\"\n",
    "\n",
    "<br>\n",
    "\n",
    "#### To be\n",
    "- convert\n",
    "    - camelcase to snakecase\n",
    "- split?\n",
    "    - name\n",
    "- astype\n",
    "    - price\n",
    "    - odmeter\n",
    "- complement\n",
    "    - power PS\n",
    "- replace\n",
    "    - notRegisteredDamage\n",
    "- missing values complement / drop\n",
    "    - vehcleType\n",
    "    - gearbox\n",
    "    - model\n",
    "    - fuelType\n",
    "    - notRegisteredDamage\n",
    "\n",
    "<br>\n",
    "\n",
    "---\n",
    "# Cleaning Data\n",
    "## Column names\n",
    "- camelcase to snakecase\n",
    "- reword names to be more descriptive"
   ]
  },
  {
   "cell_type": "code",
   "execution_count": null,
   "metadata": {
    "ExecuteTime": {
     "end_time": "2019-04-13T03:01:53.753613Z",
     "start_time": "2019-04-13T03:01:51.614Z"
    }
   },
   "outputs": [],
   "source": [
    "# print an array of existing columns\n",
    "print(autos.columns)"
   ]
  },
  {
   "cell_type": "code",
   "execution_count": null,
   "metadata": {
    "ExecuteTime": {
     "end_time": "2019-04-13T03:01:53.756611Z",
     "start_time": "2019-04-13T03:01:51.627Z"
    }
   },
   "outputs": [],
   "source": [
    "# copy the array and rename those names\n",
    "autos.columns = ['date_crawled', 'name', 'seller', 'offer_type', 'price', 'ab_test',\n",
    "       'vehicle_type', 'registration_year', 'gearbox', 'power_ps', 'model',\n",
    "       'odometer', 'registration_month', 'fuel_type', 'brand',\n",
    "       'unrepaired_damage', 'ad_created', 'num_photos', 'postal_code',\n",
    "       'last_seen']\n",
    "autos.head()"
   ]
  },
  {
   "cell_type": "markdown",
   "metadata": {},
   "source": [
    "## Initial Exploration and Cleaning\n",
    "### Consideration\n",
    "- what other cleaning tasks needed\n",
    "    - drop text columns with most values are the same\n",
    "\n",
    "### Exploration\n"
   ]
  },
  {
   "cell_type": "code",
   "execution_count": null,
   "metadata": {
    "ExecuteTime": {
     "end_time": "2019-04-13T03:01:53.759609Z",
     "start_time": "2019-04-13T03:01:51.644Z"
    }
   },
   "outputs": [],
   "source": [
    "# look at statistics for all columns\n",
    "autos.describe(include=\"all\")"
   ]
  },
  {
   "cell_type": "markdown",
   "metadata": {},
   "source": [
    "#### overview\n",
    "- columns most values has same value\n",
    "    - seller\n",
    "    - offer_type\n",
    "    \n",
    "- numeric data stored as text\n",
    "    - price\n",
    "    - odometer\n",
    "\n",
    "- columns that need more investigation\n",
    "    - power_ps\n",
    "        - 0 PS car exists?\n",
    "    - num_photos\n",
    "        - 0 statistics?\n",
    "\n",
    "#### Investigation\n",
    "- `power_ps`\n",
    "\n",
    "- `num_photos`"
   ]
  },
  {
   "cell_type": "code",
   "execution_count": null,
   "metadata": {
    "ExecuteTime": {
     "end_time": "2019-04-13T03:01:53.761608Z",
     "start_time": "2019-04-13T03:01:51.940Z"
    }
   },
   "outputs": [],
   "source": [
    "autos[\"power_ps\"].value_counts()"
   ]
  },
  {
   "cell_type": "code",
   "execution_count": null,
   "metadata": {
    "ExecuteTime": {
     "end_time": "2019-04-13T03:01:53.765605Z",
     "start_time": "2019-04-13T03:01:51.949Z"
    }
   },
   "outputs": [],
   "source": [
    "autos[\"num_photos\"].value_counts()"
   ]
  },
  {
   "cell_type": "markdown",
   "metadata": {},
   "source": [
    "- `power_ps`  \n",
    "    should replace??  \n",
    "    1 for many rows\n",
    "    \n",
    "- `num_photos`  \n",
    "    should drop this cloumn  \n",
    "    0 for every column"
   ]
  },
  {
   "cell_type": "markdown",
   "metadata": {},
   "source": [
    "## drop meanless cloumns"
   ]
  },
  {
   "cell_type": "code",
   "execution_count": null,
   "metadata": {
    "ExecuteTime": {
     "end_time": "2019-04-13T03:01:53.768604Z",
     "start_time": "2019-04-13T03:01:52.482Z"
    }
   },
   "outputs": [],
   "source": [
    "autos = autos.drop([\"seller\", \"offer_type\", \"num_photos\"], axis=1)"
   ]
  },
  {
   "cell_type": "markdown",
   "metadata": {},
   "source": [
    "## clean numeric data stored as text\n",
    "- target : `price`, `odometer`\n",
    "- to do : \n",
    "    - remove non-numeric characters\n",
    "    - convert the column to a numeric dtype\n",
    "    - rename the `odometer` to `odometer_km`"
   ]
  },
  {
   "cell_type": "code",
   "execution_count": null,
   "metadata": {
    "ExecuteTime": {
     "end_time": "2019-04-13T03:01:53.771601Z",
     "start_time": "2019-04-13T03:01:52.495Z"
    }
   },
   "outputs": [],
   "source": [
    "# price\n",
    "autos[\"price\"] = (autos[\"price\"]\n",
    "                  .str.replace(\"$\", \"\")\n",
    "                  .str.replace(\",\", \"\")\n",
    "                  .astype(int)\n",
    "                    )\n"
   ]
  },
  {
   "cell_type": "code",
   "execution_count": null,
   "metadata": {
    "ExecuteTime": {
     "end_time": "2019-04-13T03:01:53.773600Z",
     "start_time": "2019-04-13T03:01:52.505Z"
    }
   },
   "outputs": [],
   "source": [
    "autos[\"price\"].head()"
   ]
  },
  {
   "cell_type": "code",
   "execution_count": null,
   "metadata": {
    "ExecuteTime": {
     "end_time": "2019-04-13T03:01:53.776599Z",
     "start_time": "2019-04-13T03:01:52.516Z"
    }
   },
   "outputs": [],
   "source": [
    "# odometer\n",
    "autos[\"odometer\"] = (autos[\"odometer\"]\n",
    "                  .str.replace(\"km\", \"\")\n",
    "                  .str.replace(\",\", \"\")\n",
    "                  .astype(int)\n",
    "                    )\n",
    "autos.rename({\"odometer\":\"odometer_km\"}, axis=1, inplace=True)"
   ]
  },
  {
   "cell_type": "code",
   "execution_count": null,
   "metadata": {
    "ExecuteTime": {
     "end_time": "2019-04-13T03:01:53.779597Z",
     "start_time": "2019-04-13T03:01:52.527Z"
    }
   },
   "outputs": [],
   "source": [
    "autos[\"odometer_km\"].head()"
   ]
  },
  {
   "cell_type": "markdown",
   "metadata": {},
   "source": [
    "# Exploration"
   ]
  },
  {
   "cell_type": "code",
   "execution_count": null,
   "metadata": {
    "ExecuteTime": {
     "end_time": "2019-04-13T03:01:53.781594Z",
     "start_time": "2019-04-13T03:01:52.537Z"
    }
   },
   "outputs": [],
   "source": [
    "print(\"***unique values*** \\n\")\n",
    "print(autos[\"price\"].unique().shape)\n",
    "print(\"\\n\")\n",
    "print(\"***statics*** \\n\")\n",
    "print(autos[\"price\"].describe())\n",
    "print(\"\\n\")\n",
    "print(\"***counted values*** \\n\")\n",
    "autos[\"price\"].value_counts().head(20)"
   ]
  },
  {
   "cell_type": "markdown",
   "metadata": {},
   "source": [
    "- `price`\n",
    "    - meanful info\n",
    "        - alomost all values are nice rounded numbers\n",
    "        - 2357 various range of pricing, on the other hand\n",
    "            - people's decision are reflected?? not decided by site??\n",
    "    - meanless info\n",
    "        - 1421 $0 cars in 50000 cars\n",
    "            - should be drop the rows??"
   ]
  },
  {
   "cell_type": "code",
   "execution_count": null,
   "metadata": {
    "ExecuteTime": {
     "end_time": "2019-04-13T03:01:53.784593Z",
     "start_time": "2019-04-13T03:01:52.545Z"
    }
   },
   "outputs": [],
   "source": [
    "autos[\"price\"].value_counts().sort_index(ascending=False).head(30)"
   ]
  },
  {
   "cell_type": "code",
   "execution_count": null,
   "metadata": {
    "ExecuteTime": {
     "end_time": "2019-04-13T03:01:53.786593Z",
     "start_time": "2019-04-13T03:01:52.556Z"
    }
   },
   "outputs": [],
   "source": [
    "autos[\"price\"].value_counts().sort_index(ascending=True).head(30)"
   ]
  },
  {
   "cell_type": "markdown",
   "metadata": {},
   "source": [
    "Given that eBay is an auction site, there could legitimately be items where the opening bid is 1.  \n",
    "  \n",
    "Many people will keep the 1 dalar items, but remove anything above 350,000, since it seems that prices increase steadily to that number and then jump up to less realistic numbers."
   ]
  },
  {
   "cell_type": "code",
   "execution_count": null,
   "metadata": {
    "ExecuteTime": {
     "end_time": "2019-04-13T03:01:53.789591Z",
     "start_time": "2019-04-13T03:01:52.826Z"
    }
   },
   "outputs": [],
   "source": [
    "autos = autos[autos[\"price\"].between(1,351000)]\n",
    "autos[\"price\"].describe()"
   ]
  },
  {
   "cell_type": "code",
   "execution_count": null,
   "metadata": {
    "ExecuteTime": {
     "end_time": "2019-04-13T03:01:53.791590Z",
     "start_time": "2019-04-13T03:01:52.848Z"
    }
   },
   "outputs": [],
   "source": [
    "print(\"***unique values*** \\n\")\n",
    "print(autos[\"odometer_km\"].unique().shape)\n",
    "print(\"\\n\")\n",
    "print(\"***statics*** \\n\")\n",
    "print(autos[\"odometer_km\"].describe())\n",
    "print(\"\\n\")\n",
    "print(\"***counted values*** \\n\")\n",
    "autos[\"odometer_km\"].value_counts().head(20)"
   ]
  },
  {
   "cell_type": "markdown",
   "metadata": {},
   "source": [
    "- `odometer_km`\n",
    "    - meanful info\n",
    "        - more than a half of cars has driven 150000km\n",
    "        - nice rounded numbers to be seen\n",
    "            - might be just rounded actually\n",
    "            - means this column has anbiguous info  \n",
    "            \n",
    "## columns with date dtype\n",
    "- `date_crawled`\n",
    "- `registration_month`\n",
    "- `registration_year`\n",
    "- `ad_created`\n",
    "- `last_seen`  \n",
    "    These are a combination of dates that were crawled, and with meta-information from the crawler.  \n",
    "    The non-registration dates are stored as strings.\n",
    "\n"
   ]
  },
  {
   "cell_type": "code",
   "execution_count": null,
   "metadata": {
    "ExecuteTime": {
     "end_time": "2019-04-13T03:01:53.795587Z",
     "start_time": "2019-04-13T03:01:53.356Z"
    }
   },
   "outputs": [],
   "source": [
    "autos[['date_crawled','ad_created','last_seen']][0:5]"
   ]
  },
  {
   "cell_type": "code",
   "execution_count": null,
   "metadata": {
    "ExecuteTime": {
     "end_time": "2019-04-13T03:01:53.797586Z",
     "start_time": "2019-04-13T03:01:53.365Z"
    }
   },
   "outputs": [],
   "source": [
    "(autos[\"date_crawled\"]\n",
    "        .str[:10]\n",
    "        .value_counts(normalize=True, dropna=False)\n",
    "        .sort_index()\n",
    "        )"
   ]
  },
  {
   "cell_type": "code",
   "execution_count": null,
   "metadata": {
    "ExecuteTime": {
     "end_time": "2019-04-13T03:01:53.800584Z",
     "start_time": "2019-04-13T03:01:53.371Z"
    }
   },
   "outputs": [],
   "source": [
    "(autos[\"date_crawled\"]\n",
    "        .str[:10]\n",
    "        .value_counts(normalize=True, dropna=False)\n",
    "        .sort_values()\n",
    "        )"
   ]
  },
  {
   "cell_type": "code",
   "execution_count": null,
   "metadata": {
    "ExecuteTime": {
     "end_time": "2019-04-13T03:01:53.803581Z",
     "start_time": "2019-04-13T03:01:53.379Z"
    }
   },
   "outputs": [],
   "source": [
    "(autos[\"last_seen\"]\n",
    "        .str[:10]\n",
    "        .value_counts(normalize=True, dropna=False)\n",
    "        .sort_index()\n",
    "        )"
   ]
  },
  {
   "cell_type": "code",
   "execution_count": null,
   "metadata": {
    "ExecuteTime": {
     "end_time": "2019-04-13T03:01:53.805581Z",
     "start_time": "2019-04-13T03:01:53.386Z"
    }
   },
   "outputs": [],
   "source": [
    "print(autos[\"ad_created\"].str[:10].unique().shape)\n",
    "(autos[\"ad_created\"]\n",
    "        .str[:10]\n",
    "        .value_counts(normalize=True, dropna=False)\n",
    "        .sort_index()\n",
    "        )"
   ]
  },
  {
   "cell_type": "markdown",
   "metadata": {},
   "source": [
    "Looks like the site was crawled daily over roughly a one month period in March and April 2016.   \n",
    "The distribution of listings crawled on each day is roughly uniform.  \n",
    "The crawler recorded the date it last saw any listing, which allows us to determine on what day a listing was removed, presumably because the car was sold.\n",
    "\n",
    "The last three days contain a disproportionate amount of 'last seen' values.   Given that these are 6-10x the values from the previous days, it's unlikely that there was a massive spike in sales, and more likely that these values are to do with the crawling period ending and don't indicate car sales.  \n",
    "\n",
    "There is a large variety of ad created dates. Most fall within 1-2 months of the listing date, but a few are quite old, with the oldest at around 9 months."
   ]
  },
  {
   "cell_type": "code",
   "execution_count": null,
   "metadata": {
    "ExecuteTime": {
     "end_time": "2019-04-13T03:01:53.808579Z",
     "start_time": "2019-04-13T03:01:53.598Z"
    }
   },
   "outputs": [],
   "source": [
    "autos[\"registration_year\"].describe()"
   ]
  },
  {
   "cell_type": "markdown",
   "metadata": {},
   "source": [
    "The year that the car was first registered will likely indicate the age of the car. Looking at this column, we note some odd values.   \n",
    "The minimum value is 1000, long before cars were invented and the maximum is 9999, many years into the future.  \n",
    "\n",
    "### Incorrect Registration Year Data\n",
    "ecause a car can't be first registered before the listing was seen, any vehicle with a registration year above 2016 is definitely inaccurate. Determining the earliest valid year is more difficult. Realistically, it could be somewhere in the first few decades of the 1900s.\n",
    "\n",
    "One option is to remove the listings with these values. Let's determine what percentage of our data has invalid values in this column:"
   ]
  },
  {
   "cell_type": "code",
   "execution_count": 2,
   "metadata": {
    "ExecuteTime": {
     "end_time": "2019-04-13T03:01:53.925507Z",
     "start_time": "2019-04-13T03:01:53.900524Z"
    }
   },
   "outputs": [
    {
     "ename": "NameError",
     "evalue": "name 'autos' is not defined",
     "output_type": "error",
     "traceback": [
      "\u001b[1;31m---------------------------------------------------------------------------\u001b[0m",
      "\u001b[1;31mNameError\u001b[0m                                 Traceback (most recent call last)",
      "\u001b[1;32m<ipython-input-2-9aa7ae26337b>\u001b[0m in \u001b[0;36m<module>\u001b[1;34m\u001b[0m\n\u001b[1;32m----> 1\u001b[1;33m \u001b[1;33m(\u001b[0m\u001b[1;33m~\u001b[0m\u001b[0mautos\u001b[0m\u001b[1;33m[\u001b[0m\u001b[1;34m\"registration_year\"\u001b[0m\u001b[1;33m]\u001b[0m\u001b[1;33m.\u001b[0m\u001b[0mbetween\u001b[0m\u001b[1;33m(\u001b[0m\u001b[1;36m1900\u001b[0m\u001b[1;33m,\u001b[0m\u001b[1;36m2016\u001b[0m\u001b[1;33m)\u001b[0m\u001b[1;33m)\u001b[0m\u001b[1;33m.\u001b[0m\u001b[0msum\u001b[0m\u001b[1;33m(\u001b[0m\u001b[1;33m)\u001b[0m \u001b[1;33m/\u001b[0m \u001b[0mautos\u001b[0m\u001b[1;33m.\u001b[0m\u001b[0mshape\u001b[0m\u001b[1;33m[\u001b[0m\u001b[1;36m0\u001b[0m\u001b[1;33m]\u001b[0m\u001b[1;33m\u001b[0m\u001b[1;33m\u001b[0m\u001b[0m\n\u001b[0m",
      "\u001b[1;31mNameError\u001b[0m: name 'autos' is not defined"
     ]
    }
   ],
   "source": [
    "(~autos[\"registration_year\"].between(1900,2016)).sum() / autos.shape[0]"
   ]
  },
  {
   "cell_type": "markdown",
   "metadata": {},
   "source": [
    "Given that this is less than 4% of our data, we will remove these rows."
   ]
  },
  {
   "cell_type": "code",
   "execution_count": null,
   "metadata": {
    "ExecuteTime": {
     "end_time": "2019-04-13T03:01:53.930503Z",
     "start_time": "2019-04-13T03:01:53.848Z"
    }
   },
   "outputs": [],
   "source": [
    "# Many ways to select rows in a dataframe that fall within a value range for a column.\n",
    "# Using `Series.between()` is one way.\n",
    "autos = autos[autos[\"registration_year\"].between(1900,2016)]\n",
    "autos[\"registration_year\"].value_counts(normalize=True).head(10)"
   ]
  },
  {
   "cell_type": "markdown",
   "metadata": {},
   "source": [
    "It appears that most of the vehicles were first registered in the past 20 years.\n",
    "\n",
    "### Exploring Price by Brand"
   ]
  },
  {
   "cell_type": "code",
   "execution_count": null,
   "metadata": {
    "ExecuteTime": {
     "end_time": "2019-04-13T03:01:53.933501Z",
     "start_time": "2019-04-13T03:01:53.857Z"
    }
   },
   "outputs": [],
   "source": [
    "autos[\"brand\"].value_counts(normalize=True)"
   ]
  },
  {
   "cell_type": "markdown",
   "metadata": {},
   "source": [
    "German manufacturers represent four out of the top five brands, almost 50% of the overall listings. Volkswagen is by far the most popular brand, with approximately double the cars for sale of the next two brands combined.\n",
    "\n",
    "There are lots of brands that don't have a significant percentage of listings, so we will limit our analysis to brands representing more than 5% of total listings."
   ]
  },
  {
   "cell_type": "code",
   "execution_count": 3,
   "metadata": {
    "ExecuteTime": {
     "end_time": "2019-04-13T03:01:54.065419Z",
     "start_time": "2019-04-13T03:01:54.044434Z"
    }
   },
   "outputs": [
    {
     "ename": "NameError",
     "evalue": "name 'autos' is not defined",
     "output_type": "error",
     "traceback": [
      "\u001b[1;31m---------------------------------------------------------------------------\u001b[0m",
      "\u001b[1;31mNameError\u001b[0m                                 Traceback (most recent call last)",
      "\u001b[1;32m<ipython-input-3-2f3feeb15d1b>\u001b[0m in \u001b[0;36m<module>\u001b[1;34m\u001b[0m\n\u001b[1;32m----> 1\u001b[1;33m \u001b[0mbrand_counts\u001b[0m \u001b[1;33m=\u001b[0m \u001b[0mautos\u001b[0m\u001b[1;33m[\u001b[0m\u001b[1;34m\"brand\"\u001b[0m\u001b[1;33m]\u001b[0m\u001b[1;33m.\u001b[0m\u001b[0mvalue_counts\u001b[0m\u001b[1;33m(\u001b[0m\u001b[0mnormalize\u001b[0m\u001b[1;33m=\u001b[0m\u001b[1;32mTrue\u001b[0m\u001b[1;33m)\u001b[0m\u001b[1;33m\u001b[0m\u001b[1;33m\u001b[0m\u001b[0m\n\u001b[0m\u001b[0;32m      2\u001b[0m \u001b[0mcommon_brands\u001b[0m \u001b[1;33m=\u001b[0m \u001b[0mbrand_counts\u001b[0m\u001b[1;33m[\u001b[0m\u001b[0mbrand_counts\u001b[0m \u001b[1;33m>\u001b[0m \u001b[1;36m.05\u001b[0m\u001b[1;33m]\u001b[0m\u001b[1;33m.\u001b[0m\u001b[0mindex\u001b[0m\u001b[1;33m\u001b[0m\u001b[1;33m\u001b[0m\u001b[0m\n\u001b[0;32m      3\u001b[0m \u001b[0mprint\u001b[0m\u001b[1;33m(\u001b[0m\u001b[0mcommon_brands\u001b[0m\u001b[1;33m)\u001b[0m\u001b[1;33m\u001b[0m\u001b[1;33m\u001b[0m\u001b[0m\n",
      "\u001b[1;31mNameError\u001b[0m: name 'autos' is not defined"
     ]
    }
   ],
   "source": [
    "brand_counts = autos[\"brand\"].value_counts(normalize=True)\n",
    "common_brands = brand_counts[brand_counts > .05].index\n",
    "print(common_brands)"
   ]
  },
  {
   "cell_type": "code",
   "execution_count": null,
   "metadata": {
    "ExecuteTime": {
     "end_time": "2019-04-13T03:01:54.071416Z",
     "start_time": "2019-04-13T03:01:54.049Z"
    }
   },
   "outputs": [],
   "source": [
    "brand_mean_prices = {}\n",
    "\n",
    "for brand in common_brands:\n",
    "    brand_only = autos[autos[\"brand\"] == brand]\n",
    "    mean_price = brand_only[\"price\"].mean()\n",
    "    brand_mean_prices[brand] = int(mean_price)\n",
    "\n",
    "brand_mean_prices"
   ]
  },
  {
   "cell_type": "markdown",
   "metadata": {},
   "source": [
    "Of the top 5 brands, there is a distinct price gap:\n",
    "\n",
    "- Audi, BMW and Mercedes Benz are more expensive\n",
    "- Ford and Opel are less expensive\n",
    "- Volkswagen is in between - this may explain its popularity, it may be a 'best of 'both worlds' option.  \n",
    "\n",
    "### Exploring Mileage"
   ]
  },
  {
   "cell_type": "code",
   "execution_count": null,
   "metadata": {
    "ExecuteTime": {
     "end_time": "2019-04-13T03:01:54.074414Z",
     "start_time": "2019-04-13T03:01:54.058Z"
    }
   },
   "outputs": [],
   "source": [
    "bmp_series = pd.Series(brand_mean_prices)\n",
    "pd.DataFrame(bmp_series, columns=[\"mean_mileage\"])"
   ]
  },
  {
   "cell_type": "code",
   "execution_count": 4,
   "metadata": {
    "ExecuteTime": {
     "end_time": "2019-04-13T03:01:54.188344Z",
     "start_time": "2019-04-13T03:01:54.168355Z"
    }
   },
   "outputs": [
    {
     "ename": "NameError",
     "evalue": "name 'common_brands' is not defined",
     "output_type": "error",
     "traceback": [
      "\u001b[1;31m---------------------------------------------------------------------------\u001b[0m",
      "\u001b[1;31mNameError\u001b[0m                                 Traceback (most recent call last)",
      "\u001b[1;32m<ipython-input-4-91ce0638c070>\u001b[0m in \u001b[0;36m<module>\u001b[1;34m\u001b[0m\n\u001b[0;32m      1\u001b[0m \u001b[0mbrand_mean_mileage\u001b[0m \u001b[1;33m=\u001b[0m \u001b[1;33m{\u001b[0m\u001b[1;33m}\u001b[0m\u001b[1;33m\u001b[0m\u001b[1;33m\u001b[0m\u001b[0m\n\u001b[0;32m      2\u001b[0m \u001b[1;33m\u001b[0m\u001b[0m\n\u001b[1;32m----> 3\u001b[1;33m \u001b[1;32mfor\u001b[0m \u001b[0mbrand\u001b[0m \u001b[1;32min\u001b[0m \u001b[0mcommon_brands\u001b[0m\u001b[1;33m:\u001b[0m\u001b[1;33m\u001b[0m\u001b[1;33m\u001b[0m\u001b[0m\n\u001b[0m\u001b[0;32m      4\u001b[0m     \u001b[0mbrand_only\u001b[0m \u001b[1;33m=\u001b[0m \u001b[0mautos\u001b[0m\u001b[1;33m[\u001b[0m\u001b[0mautos\u001b[0m\u001b[1;33m[\u001b[0m\u001b[1;34m\"brand\"\u001b[0m\u001b[1;33m]\u001b[0m \u001b[1;33m==\u001b[0m \u001b[0mbrand\u001b[0m\u001b[1;33m]\u001b[0m\u001b[1;33m\u001b[0m\u001b[1;33m\u001b[0m\u001b[0m\n\u001b[0;32m      5\u001b[0m     \u001b[0mmean_mileage\u001b[0m \u001b[1;33m=\u001b[0m \u001b[0mbrand_only\u001b[0m\u001b[1;33m[\u001b[0m\u001b[1;34m\"odometer_km\"\u001b[0m\u001b[1;33m]\u001b[0m\u001b[1;33m.\u001b[0m\u001b[0mmean\u001b[0m\u001b[1;33m(\u001b[0m\u001b[1;33m)\u001b[0m\u001b[1;33m\u001b[0m\u001b[1;33m\u001b[0m\u001b[0m\n",
      "\u001b[1;31mNameError\u001b[0m: name 'common_brands' is not defined"
     ]
    }
   ],
   "source": [
    "brand_mean_mileage = {}\n",
    "\n",
    "for brand in common_brands:\n",
    "    brand_only = autos[autos[\"brand\"] == brand]\n",
    "    mean_mileage = brand_only[\"odometer_km\"].mean()\n",
    "    brand_mean_mileage[brand] = int(mean_mileage)\n",
    "\n",
    "mean_mileage = pd.Series(brand_mean_mileage).sort_values(ascending=False)\n",
    "mean_prices = pd.Series(brand_mean_prices).sort_values(ascending=False)"
   ]
  },
  {
   "cell_type": "code",
   "execution_count": null,
   "metadata": {
    "ExecuteTime": {
     "end_time": "2019-04-13T03:01:54.193341Z",
     "start_time": "2019-04-13T03:01:54.078Z"
    }
   },
   "outputs": [],
   "source": [
    "brand_info = pd.DataFrame(mean_mileage,columns=['mean_mileage'])\n",
    "brand_info"
   ]
  },
  {
   "cell_type": "code",
   "execution_count": null,
   "metadata": {
    "ExecuteTime": {
     "end_time": "2019-04-13T03:01:54.196338Z",
     "start_time": "2019-04-13T03:01:54.095Z"
    }
   },
   "outputs": [],
   "source": [
    "brand_info[\"mean_price\"] = mean_prices\n",
    "brand_info"
   ]
  },
  {
   "cell_type": "markdown",
   "metadata": {},
   "source": [
    "The range of car mileages does not vary as much as the prices do by brand,   instead all falling within 10% for the top brands.  \n",
    "There is a slight trend to the more expensive vehicles having higher mileage, with the less expensive vehicles having lower mileage."
   ]
  }
 ],
 "metadata": {
  "kernelspec": {
   "display_name": "Python 3",
   "language": "python",
   "name": "python3"
  },
  "language_info": {
   "codemirror_mode": {
    "name": "ipython",
    "version": 3
   },
   "file_extension": ".py",
   "mimetype": "text/x-python",
   "name": "python",
   "nbconvert_exporter": "python",
   "pygments_lexer": "ipython3",
   "version": "3.6.8"
  },
  "toc": {
   "base_numbering": 1,
   "nav_menu": {},
   "number_sections": true,
   "sideBar": true,
   "skip_h1_title": false,
   "title_cell": "Table of Contents",
   "title_sidebar": "Contents",
   "toc_cell": false,
   "toc_position": {
    "height": "calc(100% - 180px)",
    "left": "10px",
    "top": "150px",
    "width": "200.434px"
   },
   "toc_section_display": true,
   "toc_window_display": true
  },
  "varInspector": {
   "cols": {
    "lenName": 16,
    "lenType": 16,
    "lenVar": 40
   },
   "kernels_config": {
    "python": {
     "delete_cmd_postfix": "",
     "delete_cmd_prefix": "del ",
     "library": "var_list.py",
     "varRefreshCmd": "print(var_dic_list())"
    },
    "r": {
     "delete_cmd_postfix": ") ",
     "delete_cmd_prefix": "rm(",
     "library": "var_list.r",
     "varRefreshCmd": "cat(var_dic_list()) "
    }
   },
   "types_to_exclude": [
    "module",
    "function",
    "builtin_function_or_method",
    "instance",
    "_Feature"
   ],
   "window_display": false
  }
 },
 "nbformat": 4,
 "nbformat_minor": 2
}
